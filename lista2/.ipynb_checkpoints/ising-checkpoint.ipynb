{
 "cells": [
  {
   "cell_type": "code",
   "execution_count": 1,
   "id": "098cef65",
   "metadata": {
    "id": "098cef65"
   },
   "outputs": [],
   "source": [
    "import numpy as np\n",
    "import math, pylab"
   ]
  },
  {
   "cell_type": "code",
   "execution_count": null,
   "id": "ltVerg7h0k3D",
   "metadata": {
    "id": "ltVerg7h0k3D"
   },
   "outputs": [],
   "source": [
    "viz_dir = 0\n",
    "viz_cim = 1\n",
    "viz_esq = 2\n",
    "viz_bai = 3\n",
    "\n",
    "temps = [1, 2, 3, 4, 5]\n",
    "\n",
    "def set_viz(n, l):\n",
    "  viz = np.zeros((n, 4))\n",
    "\n",
    "  for k in range(1, n+1):\n",
    "    viz[k-1][viz_dir] = k + 1\n",
    "    if (k % l == 0):\n",
    "      viz[k-1][viz_dir] = k + 1 - l\n",
    "\n",
    "    viz[k-1][viz_cim] = k + l\n",
    "    if (k>n-l):\n",
    "      viz[k-1][viz_cim] = k + l - n\n",
    "\n",
    "    viz[k-1][viz_esq] = k - 1\n",
    "    if (k-1 % l == 0):\n",
    "      viz[k-1][viz_esq] = k + l - 1\n",
    "\n",
    "    viz[k-1][viz_bai] = k - l\n",
    "    if (k<l+1):\n",
    "      viz[k-1][viz_bai] = k + n - l\n",
    "\n",
    "  return viz\n",
    "\n",
    "def calc_s(n):\n",
    "  s = np.zeros(n)\n",
    "  for i in range(0, n):\n",
    "    s[i] = -1\n",
    "  \n",
    "  return s\n",
    "\n",
    "def calc_e(n):\n",
    "  E = 0\n",
    "  h = 0\n",
    "  for i in range (1, n):\n",
    "    dir = int(viz[i-1][viz_dir] - 1)\n",
    "    cim = int(viz[i-1][viz_cim] - 1)\n",
    "    h = s[dir-1]+ s[cim-1]\n",
    "    E = E - s[i-1]*h\n",
    "\n",
    "def calc_t(n):\n",
    "  t = np.zeros(n+1)\n",
    "  for i in range(0, n+1):\n",
    "    t[i] = i+1\n",
    "  \n",
    "  return t\n",
    "\n",
    "def gray_flip(t, n):\n",
    "  k = int(t[0])\n",
    "  if (k>n):\n",
    "      return k,t\n",
    "  t[k-1] = t[k]\n",
    "  t[k] = k+1\n",
    "  if (k != 1):\n",
    "      t[0] = 1\n",
    "  return k,t\n",
    "\n",
    "def enumera_ising(n):\n",
    "  g = np.zeros(4*n*n + 1)\n",
    "  s = calc_s(n)\n",
    "  t = calc_t(n)\n",
    "  E = -2*n\n",
    "  g[E] = 2\n",
    "  for i in range(1, 2**(n-1)):\n",
    "    k = gray_flip(t, n)[0]\n",
    "    h = viz[k-1][viz_dir] + viz[k-1][viz_cim] + viz[k-1][viz_esq] + viz[k-1][viz_bai]\n",
    "    E = E + 2*s[k-1]*h\n",
    "    g[int(E)] = g[int(E)] + 2\n",
    "    s[k-1] = -(s[k-1])\n",
    "  \n",
    "  return g\n",
    "\n",
    "def media_termodinamica(n, t):\n",
    "  g = enumera_ising(n)\n",
    "  beta = 1/t\n",
    "  Z, E_mean, E_sq_mean = 0, 0, 0\n",
    "  E_min = -2*n\n",
    "  E_max = 2*n\n",
    "  for E in range(E_min, E_max+1):\n",
    "    E_dashed = E-E_min\n",
    "    Z = Z + g[E]*math.exp(-beta*E_dashed)\n",
    "    E_mean = E_mean + E_dashed*g[E]*math.exp(-beta*E_dashed)\n",
    "    E_sq_mean = E_sq_mean + E_dashed**2*g[E]*math.exp(-beta*E_dashed)\n",
    "  E_mean = E_mean/Z\n",
    "  E_sq_mean = E_sq_mean/Z\n",
    "  Z = Z*math.exp(-beta*E_min)\n",
    "  cV = beta**2*(E_sq_mean-E_mean**2)/n\n",
    "  e_mean = (E_mean+E_min)/n\n",
    "  return [Z, e_mean, cV]\n"
   ]
  },
  {
   "cell_type": "markdown",
   "id": "aVQGX-H7B1yR",
   "metadata": {
    "id": "aVQGX-H7B1yR"
   },
   "source": [
    "### 2x2"
   ]
  },
  {
   "cell_type": "code",
   "execution_count": null,
   "id": "3DPrr4E73cn-",
   "metadata": {
    "id": "3DPrr4E73cn-"
   },
   "outputs": [],
   "source": [
    "l = 2\n",
    "n = l**2\n",
    "viz = set_viz(n, l)\n",
    "s = calc_s(n)\n",
    "e = calc_e(n)\n",
    "\n",
    "X_txt = []\n",
    "\n",
    "for t in temps: X_txt += [media_termodinamica(n, t)]"
   ]
  },
  {
   "cell_type": "markdown",
   "id": "ABRqPkpoDKZn",
   "metadata": {
    "id": "ABRqPkpoDKZn"
   },
   "source": [
    "### 4x4"
   ]
  },
  {
   "cell_type": "code",
   "execution_count": null,
   "id": "iP1qz2mr494l",
   "metadata": {
    "id": "iP1qz2mr494l"
   },
   "outputs": [],
   "source": [
    "l = 4\n",
    "n = l**2\n",
    "viz = set_viz(n, l)\n",
    "s = calc_s(n)\n",
    "e = calc_e(n)\n",
    "\n",
    "X_fxf = []\n",
    "\n",
    "for t in temps: X_fxf += [media_termodinamica(n, t)[2]]"
   ]
  },
  {
   "cell_type": "markdown",
   "id": "o7tvtCLyDOnL",
   "metadata": {
    "id": "o7tvtCLyDOnL"
   },
   "source": [
    "### 6x6"
   ]
  },
  {
   "cell_type": "code",
   "execution_count": null,
   "id": "x_YLlo0xDRMv",
   "metadata": {
    "id": "x_YLlo0xDRMv"
   },
   "outputs": [],
   "source": [
    "l = 6\n",
    "n = l**2\n",
    "viz = set_viz(n, l)\n",
    "s = calc_s(n)\n",
    "e = calc_e(n)\n",
    "\n",
    "X_sxs = []\n",
    "\n",
    "for t in temps: X_sxs += [media_termodinamica(n, t)[2]]"
   ]
  }
 ],
 "metadata": {
  "colab": {
   "collapsed_sections": [],
   "name": "ising.ipynb",
   "provenance": []
  },
  "kernelspec": {
   "display_name": "Python 3",
   "language": "python",
   "name": "python3"
  },
  "language_info": {
   "codemirror_mode": {
    "name": "ipython",
    "version": 3
   },
   "file_extension": ".py",
   "mimetype": "text/x-python",
   "name": "python",
   "nbconvert_exporter": "python",
   "pygments_lexer": "ipython3",
   "version": "3.8.5"
  }
 },
 "nbformat": 4,
 "nbformat_minor": 5
}
